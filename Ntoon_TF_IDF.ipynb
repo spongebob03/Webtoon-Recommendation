{
  "nbformat": 4,
  "nbformat_minor": 0,
  "metadata": {
    "colab": {
      "name": "Ntoon_TF_IDF.ipynb",
      "provenance": [],
      "collapsed_sections": [
        "wgIywFyUuGo9"
      ],
      "mount_file_id": "18Jl0iprVaYu4Vwv661ltrEg3ZwE-BHVB",
      "authorship_tag": "ABX9TyOZv9c5Dd88je2HpmOnB6qI",
      "include_colab_link": true
    },
    "kernelspec": {
      "name": "python3",
      "display_name": "Python 3"
    },
    "language_info": {
      "name": "python"
    }
  },
  "cells": [
    {
      "cell_type": "markdown",
      "metadata": {
        "id": "view-in-github",
        "colab_type": "text"
      },
      "source": [
        "<a href=\"https://colab.research.google.com/github/spongebob03/Webtoon-Recommendation/blob/NLP/Ntoon_TF_IDF.ipynb\" target=\"_parent\"><img src=\"https://colab.research.google.com/assets/colab-badge.svg\" alt=\"Open In Colab\"/></a>"
      ]
    },
    {
      "cell_type": "markdown",
      "source": [
        "# 텍스트 유사도"
      ],
      "metadata": {
        "id": "AqO892jIeUR7"
      }
    },
    {
      "cell_type": "markdown",
      "source": [
        "## Import module"
      ],
      "metadata": {
        "id": "wgIywFyUuGo9"
      }
    },
    {
      "cell_type": "code",
      "source": [
        "from datetime import timedelta, datetime\n",
        "import json\n",
        "import os\n",
        "import re\n",
        "\n",
        "import numpy as np\n",
        "import pandas as pd\n",
        "\n",
        "import nltk\n",
        "from nltk.corpus import stopwords\n",
        "from sklearn.feature_extraction.text import TfidfVectorizer\n",
        "from sklearn.feature_extraction.text import CountVectorizer\n",
        "\n",
        "from pandas.plotting import register_matplotlib_converters\n",
        "import seaborn as sns\n",
        "import matplotlib.pyplot as plt\n",
        "import matplotlib as mpl\n",
        "import matplotlib.pyplot as plt\n",
        "\n",
        "import warnings\n",
        "warnings.filterwarnings(action='ignore')"
      ],
      "metadata": {
        "id": "ghztCCcmegRD"
      },
      "execution_count": 1,
      "outputs": []
    },
    {
      "cell_type": "code",
      "source": [
        "%%bash\n",
        "apt-get update\n",
        "apt-get install g++ openjdk-8-jdk python-dev python3-dev\n",
        "pip3 install JPype1\n",
        "pip3 install konlpy"
      ],
      "metadata": {
        "colab": {
          "base_uri": "https://localhost:8080/"
        },
        "id": "WYUObS07el5N",
        "outputId": "aae8a7ce-ddc8-4006-b356-e3e2351e7bd9"
      },
      "execution_count": 2,
      "outputs": [
        {
          "output_type": "stream",
          "name": "stdout",
          "text": [
            "Hit:1 http://ppa.launchpad.net/c2d4u.team/c2d4u4.0+/ubuntu bionic InRelease\n",
            "Get:2 http://security.ubuntu.com/ubuntu bionic-security InRelease [88.7 kB]\n",
            "Hit:3 https://developer.download.nvidia.com/compute/cuda/repos/ubuntu1804/x86_64  InRelease\n",
            "Hit:4 http://archive.ubuntu.com/ubuntu bionic InRelease\n",
            "Hit:5 http://ppa.launchpad.net/cran/libgit2/ubuntu bionic InRelease\n",
            "Get:6 http://archive.ubuntu.com/ubuntu bionic-updates InRelease [88.7 kB]\n",
            "Hit:7 http://ppa.launchpad.net/deadsnakes/ppa/ubuntu bionic InRelease\n",
            "Hit:8 http://ppa.launchpad.net/graphics-drivers/ppa/ubuntu bionic InRelease\n",
            "Get:9 http://archive.ubuntu.com/ubuntu bionic-backports InRelease [74.6 kB]\n",
            "Hit:10 https://cloud.r-project.org/bin/linux/ubuntu bionic-cran40/ InRelease\n",
            "Ign:11 https://developer.download.nvidia.com/compute/machine-learning/repos/ubuntu1804/x86_64  InRelease\n",
            "Hit:12 https://developer.download.nvidia.com/compute/machine-learning/repos/ubuntu1804/x86_64  Release\n",
            "Fetched 252 kB in 2s (107 kB/s)\n",
            "Reading package lists...\n",
            "Reading package lists...\n",
            "Building dependency tree...\n",
            "Reading state information...\n",
            "python-dev is already the newest version (2.7.15~rc1-1).\n",
            "g++ is already the newest version (4:7.4.0-1ubuntu2.3).\n",
            "python3-dev is already the newest version (3.6.7-1~18.04).\n",
            "openjdk-8-jdk is already the newest version (8u312-b07-0ubuntu1~18.04).\n",
            "The following packages were automatically installed and are no longer required:\n",
            "  libnvidia-common-460 nsight-compute-2020.2.0\n",
            "Use 'apt autoremove' to remove them.\n",
            "0 upgraded, 0 newly installed, 0 to remove and 51 not upgraded.\n",
            "Requirement already satisfied: JPype1 in /usr/local/lib/python3.7/dist-packages (1.3.0)\n",
            "Requirement already satisfied: typing-extensions in /usr/local/lib/python3.7/dist-packages (from JPype1) (4.2.0)\n",
            "Requirement already satisfied: konlpy in /usr/local/lib/python3.7/dist-packages (0.6.0)\n",
            "Requirement already satisfied: JPype1>=0.7.0 in /usr/local/lib/python3.7/dist-packages (from konlpy) (1.3.0)\n",
            "Requirement already satisfied: numpy>=1.6 in /usr/local/lib/python3.7/dist-packages (from konlpy) (1.21.6)\n",
            "Requirement already satisfied: lxml>=4.1.0 in /usr/local/lib/python3.7/dist-packages (from konlpy) (4.2.6)\n",
            "Requirement already satisfied: typing-extensions in /usr/local/lib/python3.7/dist-packages (from JPype1>=0.7.0->konlpy) (4.2.0)\n"
          ]
        }
      ]
    },
    {
      "cell_type": "code",
      "source": [
        "%env JAVA_HOME \"/usr/lib/jvm/java-8-openjdk-amd64\""
      ],
      "metadata": {
        "colab": {
          "base_uri": "https://localhost:8080/"
        },
        "id": "Ocp0sTMCenYe",
        "outputId": "6bca90e0-da4a-4423-e765-1913899da9e0"
      },
      "execution_count": 3,
      "outputs": [
        {
          "output_type": "stream",
          "name": "stdout",
          "text": [
            "env: JAVA_HOME=\"/usr/lib/jvm/java-8-openjdk-amd64\"\n"
          ]
        }
      ]
    },
    {
      "cell_type": "markdown",
      "source": [
        "## 웹툰 텍스트 유사도\n",
        "참고 블로그\n",
        "  - https://code-ing.tistory.com/2"
      ],
      "metadata": {
        "id": "KdH3YyYgh_zb"
      }
    },
    {
      "cell_type": "markdown",
      "source": [
        "### 데이터 준비"
      ],
      "metadata": {
        "id": "MF4VNqz1lGJ0"
      }
    },
    {
      "cell_type": "code",
      "source": [
        "from google.colab import drive\n",
        "\n",
        "data = pd.read_csv('/content/drive/MyDrive/n-simple.csv')\n",
        "detail = pd.read_csv('/content/drive/MyDrive/n-detail.csv')\n",
        "\n",
        "df = pd.merge(data, detail, how='left', on='id')\n",
        "df.rename(columns={\"title_x\":\"title\"}, inplace=True)\n",
        "df.drop(['title_y', 'link'], axis=1, inplace=True)\n",
        "\n",
        "# 장르 -> 진행유형, 장르 분리\n",
        "df['genre_list'] = df.genre.str.split(', ')\n",
        "df.drop(['genre'], axis=1, inplace=True)\n",
        "df[['gnr1', 'gnr2']] = pd.DataFrame(df.genre_list.tolist(), index=df.index)\n",
        "df.drop(['genre_list'], axis=1, inplace=True)\n",
        "\n",
        "df.head()"
      ],
      "metadata": {
        "colab": {
          "base_uri": "https://localhost:8080/",
          "height": 337
        },
        "id": "TUccyQj9im-k",
        "outputId": "6663a23d-afe5-418e-cca7-235365d47792"
      },
      "execution_count": 4,
      "outputs": [
        {
          "output_type": "execute_result",
          "data": {
            "text/plain": [
              "       id         title  rating  completed              date      author  \\\n",
              "0  756056  가난을 등에 업은 소녀    9.11       True  2020.10.19 00:00  B급달궁 / 오은지   \n",
              "1  670144          가담항설    9.98       True  2020.10.07 23:00          랑또   \n",
              "2  732071  가령의 정체불명 이야기    9.95       True  2020.02.03 23:22          가령   \n",
              "3  703844         가비지타임    9.96      False  2022.04.23 22:57         2사장   \n",
              "4  785701        가상&RPG    9.94      False  2022.04.20 22:56         주다현   \n",
              "\n",
              "                                         description      age   free  \\\n",
              "0  흔하디 흔한 재벌후계자와 캔디도 울고 갈 박복한 가난소녀의 파란만장 동거기!인기작 ...    전체연령가   True   \n",
              "1  이번 주인공은 돌이다!돌이지만 동료도 모으고 악당도 물리친다!랑또 작가표 동양 판타...  12세 이용가   True   \n",
              "2  어느 날... 인어가 내게 말을 걸어왔다. 눈을 떠보니 총구가 있었다. 그리고 몸이...  15세 이용가   True   \n",
              "3    한국 최초 한국형 고교스포츠 웹툰!열혈따윈 개나 줘, 낙오자들 뿐인 농구부의 운명은?    전체연령가  False   \n",
              "4  \"사람은 좀 죽여도 싸우는건 싫어해요.\" 게임에서조차 집 바깥을 나가지 않는 '제리...  12세 이용가  False   \n",
              "\n",
              "                                           thumbnail  gnr1 gnr2  \n",
              "0  https://shared-comic.pstatic.net/thumb/webtoon...   스토리  로맨스  \n",
              "1  https://shared-comic.pstatic.net/thumb/webtoon...   스토리  판타지  \n",
              "2  https://shared-comic.pstatic.net/thumb/webtoon...  옴니버스  드라마  \n",
              "3  https://shared-comic.pstatic.net/thumb/webtoon...   스토리  스포츠  \n",
              "4  https://shared-comic.pstatic.net/thumb/webtoon...   스토리  판타지  "
            ],
            "text/html": [
              "\n",
              "  <div id=\"df-7624d84d-c37a-47fc-b7d9-8e9885de7a46\">\n",
              "    <div class=\"colab-df-container\">\n",
              "      <div>\n",
              "<style scoped>\n",
              "    .dataframe tbody tr th:only-of-type {\n",
              "        vertical-align: middle;\n",
              "    }\n",
              "\n",
              "    .dataframe tbody tr th {\n",
              "        vertical-align: top;\n",
              "    }\n",
              "\n",
              "    .dataframe thead th {\n",
              "        text-align: right;\n",
              "    }\n",
              "</style>\n",
              "<table border=\"1\" class=\"dataframe\">\n",
              "  <thead>\n",
              "    <tr style=\"text-align: right;\">\n",
              "      <th></th>\n",
              "      <th>id</th>\n",
              "      <th>title</th>\n",
              "      <th>rating</th>\n",
              "      <th>completed</th>\n",
              "      <th>date</th>\n",
              "      <th>author</th>\n",
              "      <th>description</th>\n",
              "      <th>age</th>\n",
              "      <th>free</th>\n",
              "      <th>thumbnail</th>\n",
              "      <th>gnr1</th>\n",
              "      <th>gnr2</th>\n",
              "    </tr>\n",
              "  </thead>\n",
              "  <tbody>\n",
              "    <tr>\n",
              "      <th>0</th>\n",
              "      <td>756056</td>\n",
              "      <td>가난을 등에 업은 소녀</td>\n",
              "      <td>9.11</td>\n",
              "      <td>True</td>\n",
              "      <td>2020.10.19 00:00</td>\n",
              "      <td>B급달궁 / 오은지</td>\n",
              "      <td>흔하디 흔한 재벌후계자와 캔디도 울고 갈 박복한 가난소녀의 파란만장 동거기!인기작 ...</td>\n",
              "      <td>전체연령가</td>\n",
              "      <td>True</td>\n",
              "      <td>https://shared-comic.pstatic.net/thumb/webtoon...</td>\n",
              "      <td>스토리</td>\n",
              "      <td>로맨스</td>\n",
              "    </tr>\n",
              "    <tr>\n",
              "      <th>1</th>\n",
              "      <td>670144</td>\n",
              "      <td>가담항설</td>\n",
              "      <td>9.98</td>\n",
              "      <td>True</td>\n",
              "      <td>2020.10.07 23:00</td>\n",
              "      <td>랑또</td>\n",
              "      <td>이번 주인공은 돌이다!돌이지만 동료도 모으고 악당도 물리친다!랑또 작가표 동양 판타...</td>\n",
              "      <td>12세 이용가</td>\n",
              "      <td>True</td>\n",
              "      <td>https://shared-comic.pstatic.net/thumb/webtoon...</td>\n",
              "      <td>스토리</td>\n",
              "      <td>판타지</td>\n",
              "    </tr>\n",
              "    <tr>\n",
              "      <th>2</th>\n",
              "      <td>732071</td>\n",
              "      <td>가령의 정체불명 이야기</td>\n",
              "      <td>9.95</td>\n",
              "      <td>True</td>\n",
              "      <td>2020.02.03 23:22</td>\n",
              "      <td>가령</td>\n",
              "      <td>어느 날... 인어가 내게 말을 걸어왔다. 눈을 떠보니 총구가 있었다. 그리고 몸이...</td>\n",
              "      <td>15세 이용가</td>\n",
              "      <td>True</td>\n",
              "      <td>https://shared-comic.pstatic.net/thumb/webtoon...</td>\n",
              "      <td>옴니버스</td>\n",
              "      <td>드라마</td>\n",
              "    </tr>\n",
              "    <tr>\n",
              "      <th>3</th>\n",
              "      <td>703844</td>\n",
              "      <td>가비지타임</td>\n",
              "      <td>9.96</td>\n",
              "      <td>False</td>\n",
              "      <td>2022.04.23 22:57</td>\n",
              "      <td>2사장</td>\n",
              "      <td>한국 최초 한국형 고교스포츠 웹툰!열혈따윈 개나 줘, 낙오자들 뿐인 농구부의 운명은?</td>\n",
              "      <td>전체연령가</td>\n",
              "      <td>False</td>\n",
              "      <td>https://shared-comic.pstatic.net/thumb/webtoon...</td>\n",
              "      <td>스토리</td>\n",
              "      <td>스포츠</td>\n",
              "    </tr>\n",
              "    <tr>\n",
              "      <th>4</th>\n",
              "      <td>785701</td>\n",
              "      <td>가상&amp;RPG</td>\n",
              "      <td>9.94</td>\n",
              "      <td>False</td>\n",
              "      <td>2022.04.20 22:56</td>\n",
              "      <td>주다현</td>\n",
              "      <td>\"사람은 좀 죽여도 싸우는건 싫어해요.\" 게임에서조차 집 바깥을 나가지 않는 '제리...</td>\n",
              "      <td>12세 이용가</td>\n",
              "      <td>False</td>\n",
              "      <td>https://shared-comic.pstatic.net/thumb/webtoon...</td>\n",
              "      <td>스토리</td>\n",
              "      <td>판타지</td>\n",
              "    </tr>\n",
              "  </tbody>\n",
              "</table>\n",
              "</div>\n",
              "      <button class=\"colab-df-convert\" onclick=\"convertToInteractive('df-7624d84d-c37a-47fc-b7d9-8e9885de7a46')\"\n",
              "              title=\"Convert this dataframe to an interactive table.\"\n",
              "              style=\"display:none;\">\n",
              "        \n",
              "  <svg xmlns=\"http://www.w3.org/2000/svg\" height=\"24px\"viewBox=\"0 0 24 24\"\n",
              "       width=\"24px\">\n",
              "    <path d=\"M0 0h24v24H0V0z\" fill=\"none\"/>\n",
              "    <path d=\"M18.56 5.44l.94 2.06.94-2.06 2.06-.94-2.06-.94-.94-2.06-.94 2.06-2.06.94zm-11 1L8.5 8.5l.94-2.06 2.06-.94-2.06-.94L8.5 2.5l-.94 2.06-2.06.94zm10 10l.94 2.06.94-2.06 2.06-.94-2.06-.94-.94-2.06-.94 2.06-2.06.94z\"/><path d=\"M17.41 7.96l-1.37-1.37c-.4-.4-.92-.59-1.43-.59-.52 0-1.04.2-1.43.59L10.3 9.45l-7.72 7.72c-.78.78-.78 2.05 0 2.83L4 21.41c.39.39.9.59 1.41.59.51 0 1.02-.2 1.41-.59l7.78-7.78 2.81-2.81c.8-.78.8-2.07 0-2.86zM5.41 20L4 18.59l7.72-7.72 1.47 1.35L5.41 20z\"/>\n",
              "  </svg>\n",
              "      </button>\n",
              "      \n",
              "  <style>\n",
              "    .colab-df-container {\n",
              "      display:flex;\n",
              "      flex-wrap:wrap;\n",
              "      gap: 12px;\n",
              "    }\n",
              "\n",
              "    .colab-df-convert {\n",
              "      background-color: #E8F0FE;\n",
              "      border: none;\n",
              "      border-radius: 50%;\n",
              "      cursor: pointer;\n",
              "      display: none;\n",
              "      fill: #1967D2;\n",
              "      height: 32px;\n",
              "      padding: 0 0 0 0;\n",
              "      width: 32px;\n",
              "    }\n",
              "\n",
              "    .colab-df-convert:hover {\n",
              "      background-color: #E2EBFA;\n",
              "      box-shadow: 0px 1px 2px rgba(60, 64, 67, 0.3), 0px 1px 3px 1px rgba(60, 64, 67, 0.15);\n",
              "      fill: #174EA6;\n",
              "    }\n",
              "\n",
              "    [theme=dark] .colab-df-convert {\n",
              "      background-color: #3B4455;\n",
              "      fill: #D2E3FC;\n",
              "    }\n",
              "\n",
              "    [theme=dark] .colab-df-convert:hover {\n",
              "      background-color: #434B5C;\n",
              "      box-shadow: 0px 1px 3px 1px rgba(0, 0, 0, 0.15);\n",
              "      filter: drop-shadow(0px 1px 2px rgba(0, 0, 0, 0.3));\n",
              "      fill: #FFFFFF;\n",
              "    }\n",
              "  </style>\n",
              "\n",
              "      <script>\n",
              "        const buttonEl =\n",
              "          document.querySelector('#df-7624d84d-c37a-47fc-b7d9-8e9885de7a46 button.colab-df-convert');\n",
              "        buttonEl.style.display =\n",
              "          google.colab.kernel.accessAllowed ? 'block' : 'none';\n",
              "\n",
              "        async function convertToInteractive(key) {\n",
              "          const element = document.querySelector('#df-7624d84d-c37a-47fc-b7d9-8e9885de7a46');\n",
              "          const dataTable =\n",
              "            await google.colab.kernel.invokeFunction('convertToInteractive',\n",
              "                                                     [key], {});\n",
              "          if (!dataTable) return;\n",
              "\n",
              "          const docLinkHtml = 'Like what you see? Visit the ' +\n",
              "            '<a target=\"_blank\" href=https://colab.research.google.com/notebooks/data_table.ipynb>data table notebook</a>'\n",
              "            + ' to learn more about interactive tables.';\n",
              "          element.innerHTML = '';\n",
              "          dataTable['output_type'] = 'display_data';\n",
              "          await google.colab.output.renderOutput(dataTable, element);\n",
              "          const docLink = document.createElement('div');\n",
              "          docLink.innerHTML = docLinkHtml;\n",
              "          element.appendChild(docLink);\n",
              "        }\n",
              "      </script>\n",
              "    </div>\n",
              "  </div>\n",
              "  "
            ]
          },
          "metadata": {},
          "execution_count": 4
        }
      ]
    },
    {
      "cell_type": "code",
      "source": [
        "all_gnr = set(df['gnr2'])\n",
        "all_gnr"
      ],
      "metadata": {
        "id": "Asgn5LkI4HUM",
        "colab": {
          "base_uri": "https://localhost:8080/"
        },
        "outputId": "7f944ede-8dfd-4721-85ca-3ee5e3d11e6c"
      },
      "execution_count": 5,
      "outputs": [
        {
          "output_type": "execute_result",
          "data": {
            "text/plain": [
              "{'감성', '개그', '드라마', '로맨스', '무협/사극', '스릴러', '스포츠', '액션', '일상', '판타지'}"
            ]
          },
          "metadata": {},
          "execution_count": 5
        }
      ]
    },
    {
      "cell_type": "markdown",
      "source": [
        "### 데이터 전처리"
      ],
      "metadata": {
        "id": "m8A05b1TuVLi"
      }
    },
    {
      "cell_type": "code",
      "source": [
        "from konlpy.tag import Kkma, Hannanum, Komoran\n",
        "from konlpy.utils import pprint\n",
        "\n",
        "hannanum = Hannanum()\n",
        "kkma = Kkma()\n",
        "komoran = Komoran()\n",
        "\n",
        "#웹툰 설명에 대한 stopword 설정\n",
        "stop_words = set(\"를 의 웹 툰 웹툰 웹툰판 이번 들 등 수  이 부 판 뿐 여자 남자 그 것 나 그 그녀 속 시작 속\".split())\n",
        "stop_words |= set(\"이야기 데 전 후 두 앞 뒤 그들 때문 사람 두 신작 한 자신 소년 소녀 만화\".split())"
      ],
      "metadata": {
        "id": "YCsBjxZ7kHfN"
      },
      "execution_count": 6,
      "outputs": []
    },
    {
      "cell_type": "code",
      "source": [
        "def get_voca(doclist):\n",
        "    doc_nouns_list = []\n",
        "\n",
        "    for doc in doclist:\n",
        "        nouns = hannanum.nouns(doc)\n",
        "        doc_nouns = ''\n",
        "\n",
        "        for noun in nouns:\n",
        "            if noun not in stop_words:\n",
        "                doc_nouns += noun + ' '\n",
        "\n",
        "        doc_nouns_list.append(doc_nouns)\n",
        "    return doc_nouns_list"
      ],
      "metadata": {
        "id": "CaP6XFTpl_Lg"
      },
      "execution_count": 7,
      "outputs": []
    },
    {
      "cell_type": "markdown",
      "source": [
        "### TF-IDF"
      ],
      "metadata": {
        "id": "LETPH10SufYs"
      }
    },
    {
      "cell_type": "code",
      "source": [
        "def recomend_by_word(doclist, result):\n",
        "    # 결과 웹툰 식별을 위한 딕셔너리\n",
        "    id_dict = {i: id for i, id in enumerate(doclist['id'])}\n",
        "\n",
        "    descriptions = doclist['description']\n",
        "    voca = get_voca(descriptions)\n",
        "\n",
        "    # TF-IDF\n",
        "    tfidf_vectorizer = TfidfVectorizer(min_df=1)\n",
        "    tfidf_matrix = tfidf_vectorizer.fit_transform(voca)\n",
        "    document_distances = tfidf_matrix * tfidf_matrix.T\n",
        "\n",
        "    print('유사도 분석을 위한 ' + str(document_distances.get_shape()[0]) + 'x' + str(document_distances.get_shape()[1]) + 'matrix를 만들었습니다.', end='->')\n",
        "    n = document_distances.get_shape()[0]\n",
        "\n",
        "    cnt = 0\n",
        "    for i in range(n):\n",
        "        a = document_distances[i].toarray().T\n",
        "        similarity = set()\n",
        "        for j in range(n):\n",
        "            if a[j][0] > 0.5 and j != i: # 유사도 0.5 이상인 다른 웹툰\n",
        "                similarity.add(id_dict[j]) # 웹툰번호로 저장\n",
        "        if len(similarity) > 0:\n",
        "            result[id_dict[i]] = result.get(id_dict[i], set([])) | set(similarity)\n",
        "            cnt += 1\n",
        "\n",
        "    print(f'{cnt}개 웹툰에 대한 추천')\n",
        "    return result"
      ],
      "metadata": {
        "id": "YuFWi6OO2vOI"
      },
      "execution_count": 8,
      "outputs": []
    },
    {
      "cell_type": "markdown",
      "source": [
        "전체 웹툰에서의 키워드 유사도 추천"
      ],
      "metadata": {
        "id": "FkrREALwGxAl"
      }
    },
    {
      "cell_type": "code",
      "source": [
        "result = recomend_by_word(df[['id', 'description']], {})"
      ],
      "metadata": {
        "colab": {
          "base_uri": "https://localhost:8080/"
        },
        "id": "EXiNNYn337nn",
        "outputId": "a1350e01-784a-499d-f8da-49637af88cc6"
      },
      "execution_count": 9,
      "outputs": [
        {
          "output_type": "stream",
          "name": "stdout",
          "text": [
            "유사도 분석을 위한 1791x1791matrix를 만들었습니다.->104개 웹툰에 대한 추천\n"
          ]
        }
      ]
    },
    {
      "cell_type": "code",
      "source": [
        "for gnr_name in all_gnr:\n",
        "    print(f'in {gnr_name}...', end=' ')\n",
        "    doclist = df[df['gnr2']==gnr_name][['id', 'description']]\n",
        "    recomend_by_word(doclist, result)"
      ],
      "metadata": {
        "colab": {
          "base_uri": "https://localhost:8080/"
        },
        "id": "t5oAWirdG26m",
        "outputId": "d4b6234b-86d5-40cb-f329-ec3bd73defb2"
      },
      "execution_count": 10,
      "outputs": [
        {
          "output_type": "stream",
          "name": "stdout",
          "text": [
            "in 판타지... 유사도 분석을 위한 323x323matrix를 만들었습니다.->7개 웹툰에 대한 추천\n",
            "in 스릴러... 유사도 분석을 위한 220x220matrix를 만들었습니다.->12개 웹툰에 대한 추천\n",
            "in 일상... 유사도 분석을 위한 75x75matrix를 만들었습니다.->0개 웹툰에 대한 추천\n",
            "in 무협/사극... 유사도 분석을 위한 26x26matrix를 만들었습니다.->2개 웹툰에 대한 추천\n",
            "in 액션... 유사도 분석을 위한 147x147matrix를 만들었습니다.->2개 웹툰에 대한 추천\n",
            "in 로맨스... 유사도 분석을 위한 404x404matrix를 만들었습니다.->11개 웹툰에 대한 추천\n",
            "in 개그... 유사도 분석을 위한 133x133matrix를 만들었습니다.->10개 웹툰에 대한 추천\n",
            "in 감성... 유사도 분석을 위한 33x33matrix를 만들었습니다.->0개 웹툰에 대한 추천\n",
            "in 스포츠... 유사도 분석을 위한 23x23matrix를 만들었습니다.->0개 웹툰에 대한 추천\n",
            "in 드라마... 유사도 분석을 위한 407x407matrix를 만들었습니다.->19개 웹툰에 대한 추천\n"
          ]
        }
      ]
    },
    {
      "cell_type": "code",
      "source": [
        "print(len(result))"
      ],
      "metadata": {
        "colab": {
          "base_uri": "https://localhost:8080/"
        },
        "id": "vWIp0DVvHH3e",
        "outputId": "ff0ddb74-5197-4a95-a56c-41a4c381b291"
      },
      "execution_count": 11,
      "outputs": [
        {
          "output_type": "stream",
          "name": "stdout",
          "text": [
            "106\n"
          ]
        }
      ]
    },
    {
      "cell_type": "code",
      "source": [
        "# 웹툰 번호 제목으로 표기해서 출력\n",
        "def show_result(result):\n",
        "    i = 1\n",
        "    for key, value in result.items():\n",
        "        print(i, df[df['id']==key].title.item(), end='\\n👉👉 ')\n",
        "        print(' / '.join([df[df['id']==v].title.item() for v in value]))\n",
        "        print('---'*15)\n",
        "        i += 1"
      ],
      "metadata": {
        "id": "gffOFsorKRc6"
      },
      "execution_count": 12,
      "outputs": []
    },
    {
      "cell_type": "code",
      "source": [
        "show_result(result)"
      ],
      "metadata": {
        "colab": {
          "base_uri": "https://localhost:8080/"
        },
        "id": "HCTMUZSiLY8Y",
        "outputId": "81402e33-55c5-424c-d6dd-2ad210e68a82"
      },
      "execution_count": 13,
      "outputs": [
        {
          "output_type": "stream",
          "name": "stdout",
          "text": [
            "1 가우스전자 시즌1~2\n",
            "👉👉 가우스전자 시즌3~4\n",
            "---------------------------------------------\n",
            "2 가우스전자 시즌3~4\n",
            "👉👉 가우스전자 시즌1~2\n",
            "---------------------------------------------\n",
            "3 간질간질\n",
            "👉👉 꽃 피는 날 / 안녕, 대학생 / 수학 잘하는 법\n",
            "---------------------------------------------\n",
            "4 감염자\n",
            "👉👉 시노딕\n",
            "---------------------------------------------\n",
            "5 개미\n",
            "👉👉 우바우\n",
            "---------------------------------------------\n",
            "6 공방의 마녀\n",
            "👉👉 몸이 바뀌는 사정\n",
            "---------------------------------------------\n",
            "7 구석구석캠페인\n",
            "👉👉 우리의 이상한 여행\n",
            "---------------------------------------------\n",
            "8 금요일 베스트\n",
            "👉👉 원주민 공포만화\n",
            "---------------------------------------------\n",
            "9 꽃 피는 날\n",
            "👉👉 안녕, 대학생 / 간질간질\n",
            "---------------------------------------------\n",
            "10 난약\n",
            "👉👉 컨트롤제트\n",
            "---------------------------------------------\n",
            "11 너와 너 사이\n",
            "👉👉 드래곤레시피\n",
            "---------------------------------------------\n",
            "12 놓지마 정신줄\n",
            "👉👉 놓지마 정신줄 시즌2\n",
            "---------------------------------------------\n",
            "13 놓지마 정신줄 시즌2\n",
            "👉👉 놓지마 정신줄\n",
            "---------------------------------------------\n",
            "14 단편 할머니/나는내일죽는다\n",
            "👉👉 초록인간\n",
            "---------------------------------------------\n",
            "15 달콤한 인생\n",
            "👉👉 달콤한 인생_스페셜 에피소드\n",
            "---------------------------------------------\n",
            "16 달콤한 인생_스페셜 에피소드\n",
            "👉👉 달콤한 인생\n",
            "---------------------------------------------\n",
            "17 데우스 엑스 마키나\n",
            "👉👉 연옥님이 보고계셔 / 빨간책\n",
            "---------------------------------------------\n",
            "18 두근거려요\n",
            "👉👉 3인칭\n",
            "---------------------------------------------\n",
            "19 드래곤레시피\n",
            "👉👉 너와 너 사이\n",
            "---------------------------------------------\n",
            "20 라스트 서브미션\n",
            "👉👉 사랑을 연기하다\n",
            "---------------------------------------------\n",
            "21 레드돌\n",
            "👉👉 일사부재리 / 해피 / 지새는 달\n",
            "---------------------------------------------\n",
            "22 레드카펫\n",
            "👉👉 화이트멜로우\n",
            "---------------------------------------------\n",
            "23 로딩\n",
            "👉👉 우리의 이상한 여행\n",
            "---------------------------------------------\n",
            "24 로봇빠찌\n",
            "👉👉 진진돌이 에볼루션 / 번개기동대 2009 / 번데기스\n",
            "---------------------------------------------\n",
            "25 마녀사냥\n",
            "👉👉 시타를 위하여 / 섀도우\n",
            "---------------------------------------------\n",
            "26 마법스크롤 상인 지오\n",
            "👉👉 숲 속의 미마\n",
            "---------------------------------------------\n",
            "27 머리카락을 뽑으면\n",
            "👉👉 컨트롤제트\n",
            "---------------------------------------------\n",
            "28 몸이 바뀌는 사정\n",
            "👉👉 공방의 마녀\n",
            "---------------------------------------------\n",
            "29 무의식의 숲\n",
            "👉👉 악몽일기\n",
            "---------------------------------------------\n",
            "30 문아\n",
            "👉👉 반중력소녀\n",
            "---------------------------------------------\n",
            "31 미라클! 용사님\n",
            "👉👉 썸남\n",
            "---------------------------------------------\n",
            "32 반중력소녀\n",
            "👉👉 봄이여 오라 / 문아\n",
            "---------------------------------------------\n",
            "33 번개기동대 2009\n",
            "👉👉 진진돌이 에볼루션 / 로봇빠찌 / 번데기스\n",
            "---------------------------------------------\n",
            "34 번데기스\n",
            "👉👉 로봇빠찌 / 번개기동대 2009\n",
            "---------------------------------------------\n",
            "35 병의 기록\n",
            "👉👉 뷰티풀 군바리\n",
            "---------------------------------------------\n",
            "36 봄이여 오라\n",
            "👉👉 반중력소녀\n",
            "---------------------------------------------\n",
            "37 뷰티풀 군바리\n",
            "👉👉 병의 기록\n",
            "---------------------------------------------\n",
            "38 블라인드 메르헨\n",
            "👉👉 윈터우즈\n",
            "---------------------------------------------\n",
            "39 비흔\n",
            "👉👉 전설의 레전드\n",
            "---------------------------------------------\n",
            "40 빙의\n",
            "👉👉 악령주의보\n",
            "---------------------------------------------\n",
            "41 빨간책\n",
            "👉👉 데우스 엑스 마키나\n",
            "---------------------------------------------\n",
            "42 사랑을 연기하다\n",
            "👉👉 라스트 서브미션\n",
            "---------------------------------------------\n",
            "43 섀도우\n",
            "👉👉 시타를 위하여 / 마녀사냥\n",
            "---------------------------------------------\n",
            "44 수영만화일기\n",
            "👉👉 인어를 위한 수영교실\n",
            "---------------------------------------------\n",
            "45 수학 잘하는 법\n",
            "👉👉 안녕, 대학생 / 간질간질\n",
            "---------------------------------------------\n",
            "46 숲 속의 미마\n",
            "👉👉 마법스크롤 상인 지오\n",
            "---------------------------------------------\n",
            "47 슈퍼트리오\n",
            "👉👉 슈퍼트리오 시즌2\n",
            "---------------------------------------------\n",
            "48 슈퍼트리오 시즌2\n",
            "👉👉 슈퍼트리오\n",
            "---------------------------------------------\n",
            "49 시노딕\n",
            "👉👉 감염자\n",
            "---------------------------------------------\n",
            "50 시타를 위하여\n",
            "👉👉 섀도우 / 마녀사냥 / 헬로 미스터 테디\n",
            "---------------------------------------------\n",
            "51 썸남\n",
            "👉👉 미라클! 용사님\n",
            "---------------------------------------------\n",
            "52 아이소포스 1, 2부\n",
            "👉👉 아이소포스 3부\n",
            "---------------------------------------------\n",
            "53 아이소포스 3부\n",
            "👉👉 아이소포스 1, 2부\n",
            "---------------------------------------------\n",
            "54 아일랜드 1부\n",
            "👉👉 아일랜드 2부\n",
            "---------------------------------------------\n",
            "55 아일랜드 2부\n",
            "👉👉 아일랜드 1부\n",
            "---------------------------------------------\n",
            "56 악령주의보\n",
            "👉👉 빙의\n",
            "---------------------------------------------\n",
            "57 악몽일기\n",
            "👉👉 무의식의 숲\n",
            "---------------------------------------------\n",
            "58 안녕, 대학생\n",
            "👉👉 꽃 피는 날 / 파우스트 인 러브 / 수학 잘하는 법 / 간질간질\n",
            "---------------------------------------------\n",
            "59 연\n",
            "👉👉 연 시즌2\n",
            "---------------------------------------------\n",
            "60 연 시즌2\n",
            "👉👉 연\n",
            "---------------------------------------------\n",
            "61 연옥님이 보고계셔\n",
            "👉👉 데우스 엑스 마키나\n",
            "---------------------------------------------\n",
            "62 영수의 봄\n",
            "👉👉 일사부재리 / 해피 / 지새는 달\n",
            "---------------------------------------------\n",
            "63 완벽한 허니문\n",
            "👉👉 우리의 이상한 여행\n",
            "---------------------------------------------\n",
            "64 우리의 이상한 여행\n",
            "👉👉 로딩 / 구석구석캠페인 / 완벽한 허니문\n",
            "---------------------------------------------\n",
            "65 우바우\n",
            "👉👉 개미\n",
            "---------------------------------------------\n",
            "66 원주민 공포만화\n",
            "👉👉 금요일 베스트\n",
            "---------------------------------------------\n",
            "67 윈터우즈\n",
            "👉👉 블라인드 메르헨\n",
            "---------------------------------------------\n",
            "68 유토피아\n",
            "👉👉 3인칭\n",
            "---------------------------------------------\n",
            "69 이별의 품격\n",
            "👉👉 헤어진 다음날\n",
            "---------------------------------------------\n",
            "70 인어를 위한 수영교실\n",
            "👉👉 수영만화일기\n",
            "---------------------------------------------\n",
            "71 인터셉트\n",
            "👉👉 3인칭\n",
            "---------------------------------------------\n",
            "72 일사부재리\n",
            "👉👉 영수의 봄 / 지새는 달 / 해피 / 레드돌\n",
            "---------------------------------------------\n",
            "73 전설의 레전드\n",
            "👉👉 비흔\n",
            "---------------------------------------------\n",
            "74 조선좀비실록\n",
            "👉👉 창궐\n",
            "---------------------------------------------\n",
            "75 좀비딸\n",
            "👉👉 좀비를 위한 나라는 없다\n",
            "---------------------------------------------\n",
            "76 좀비를 위한 나라는 없다\n",
            "👉👉 좀비딸\n",
            "---------------------------------------------\n",
            "77 지새는 달\n",
            "👉👉 영수의 봄 / 일사부재리 / 해피 / 레드돌\n",
            "---------------------------------------------\n",
            "78 진진돌이 에볼루션\n",
            "👉👉 로봇빠찌 / 번개기동대 2009\n",
            "---------------------------------------------\n",
            "79 창궐\n",
            "👉👉 조선좀비실록\n",
            "---------------------------------------------\n",
            "80 첩보의 별\n",
            "👉👉 첩보의 별 시즌2\n",
            "---------------------------------------------\n",
            "81 첩보의 별 시즌2\n",
            "👉👉 첩보의 별\n",
            "---------------------------------------------\n",
            "82 초록인간\n",
            "👉👉 단편 할머니/나는내일죽는다\n",
            "---------------------------------------------\n",
            "83 컨트롤제트\n",
            "👉👉 난약 / 머리카락을 뽑으면\n",
            "---------------------------------------------\n",
            "84 파우스트 인 러브\n",
            "👉👉 안녕, 대학생\n",
            "---------------------------------------------\n",
            "85 폭풍의 전학생\n",
            "👉👉 폭풍의 전학생 - 리부트\n",
            "---------------------------------------------\n",
            "86 폭풍의 전학생 - 리부트\n",
            "👉👉 폭풍의 전학생\n",
            "---------------------------------------------\n",
            "87 해피\n",
            "👉👉 지새는 달 / 영수의 봄 / 일사부재리 / 레드돌\n",
            "---------------------------------------------\n",
            "88 헤어진 다음날\n",
            "👉👉 이별의 품격\n",
            "---------------------------------------------\n",
            "89 헬로 미스터 테디\n",
            "👉👉 시타를 위하여\n",
            "---------------------------------------------\n",
            "90 화이트멜로우\n",
            "👉👉 레드카펫\n",
            "---------------------------------------------\n",
            "91 DEY 호러채널\n",
            "👉👉 DEY 호러채널(일반판)\n",
            "---------------------------------------------\n",
            "92 DEY 호러채널(일반판)\n",
            "👉👉 DEY 호러채널\n",
            "---------------------------------------------\n",
            "93 N의등대-busted\n",
            "👉👉 N의등대-thecalling / N의등대-도망자 / N의등대-눈의등대\n",
            "---------------------------------------------\n",
            "94 N의등대-thecalling\n",
            "👉👉 N의등대-도망자 / N의등대-눈의등대 / N의등대-busted\n",
            "---------------------------------------------\n",
            "95 N의등대-눈의등대\n",
            "👉👉 N의등대-thecalling / N의등대-도망자 / N의등대-busted\n",
            "---------------------------------------------\n",
            "96 N의등대-도망자\n",
            "👉👉 N의등대-thecalling / N의등대-눈의등대 / N의등대-busted\n",
            "---------------------------------------------\n",
            "97 2013 루키 단편선\n",
            "👉👉 2014 루키 단편선\n",
            "---------------------------------------------\n",
            "98 2014 루키 단편선\n",
            "👉👉 2013 루키 단편선\n",
            "---------------------------------------------\n",
            "99 2015 루키 단편선\n",
            "👉👉 2016 루키 단편선\n",
            "---------------------------------------------\n",
            "100 2016 루키 단편선\n",
            "👉👉 2015 루키 단편선 / 2018 루키 단편선 / 2017 루키 단편선\n",
            "---------------------------------------------\n",
            "101 2017 루키 단편선\n",
            "👉👉 2016 루키 단편선 / 2018 루키 단편선 / 2019 루키 단편선\n",
            "---------------------------------------------\n",
            "102 2018 루키 단편선\n",
            "👉👉 2016 루키 단편선 / 2019 루키 단편선 / 2017 루키 단편선\n",
            "---------------------------------------------\n",
            "103 2019 루키 단편선\n",
            "👉👉 2018 루키 단편선 / 2017 루키 단편선\n",
            "---------------------------------------------\n",
            "104 3인칭\n",
            "👉👉 두근거려요 / 인터셉트 / 유토피아\n",
            "---------------------------------------------\n",
            "105 모던패밀리\n",
            "👉👉 모던패밀리 2\n",
            "---------------------------------------------\n",
            "106 모던패밀리 2\n",
            "👉👉 모던패밀리\n",
            "---------------------------------------------\n"
          ]
        }
      ]
    },
    {
      "cell_type": "code",
      "source": [
        "def find_recommend(result, title):\n",
        "    print(f'웹툰 [{title}]과 비슷한 다른 웹툰은...', end=' ')\n",
        "    others = result.get(df[df['title']==title].id.item(), [])\n",
        "    if not others:\n",
        "        print('아직 없습니다.')\n",
        "        return\n",
        "    print(' / '.join([df[df['id']==s].title.item() for s in others]))"
      ],
      "metadata": {
        "id": "1ZLfpICs40vI"
      },
      "execution_count": 14,
      "outputs": []
    },
    {
      "cell_type": "code",
      "source": [
        "find_recommend(result, '해피')"
      ],
      "metadata": {
        "colab": {
          "base_uri": "https://localhost:8080/"
        },
        "id": "tRw33aHD48NN",
        "outputId": "2fa6f4db-fce9-4c3e-d28a-cc0378377992"
      },
      "execution_count": 16,
      "outputs": [
        {
          "output_type": "stream",
          "name": "stdout",
          "text": [
            "웹툰 [해피]과 비슷한 다른 웹툰은... 지새는 달 / 영수의 봄 / 일사부재리 / 레드돌\n"
          ]
        }
      ]
    }
  ]
}